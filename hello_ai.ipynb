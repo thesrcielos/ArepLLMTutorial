{
 "cells": [
  {
   "cell_type": "code",
   "execution_count": 1,
   "metadata": {},
   "outputs": [
    {
     "name": "stdout",
     "output_type": "stream",
     "text": [
      "Cliente OpenAI inicializado correctamente.\n"
     ]
    }
   ],
   "source": [
    "import os\n",
    "from dotenv import load_dotenv\n",
    "from openai import OpenAI\n",
    "load_dotenv()\n",
    "client = OpenAI(api_key=os.getenv(\"OPENAI_API_KEY\"))\n",
    "print(\"Cliente OpenAI inicializado correctamente.\")\n"
   ]
  },
  {
   "cell_type": "code",
   "execution_count": 2,
   "metadata": {},
   "outputs": [
    {
     "name": "stdout",
     "output_type": "stream",
     "text": [
      "¡Hola, Universo Digital! 🌌🤖 ¡Listos para explorar infinitas posibilidades juntos!\n"
     ]
    }
   ],
   "source": [
    "prompt = \"Escribe un saludo tipo 'Hello World' con un toque creativo de IA.\"\n",
    "resp = client.chat.completions.create(\n",
    " model=\"gpt-4o-mini\",\n",
    " messages=[{\"role\": \"user\", \"content\": prompt}],\n",
    " temperature=0.6\n",
    ")\n",
    "print(resp.choices[0].message.content)"
   ]
  },
  {
   "cell_type": "code",
   "execution_count": 4,
   "metadata": {},
   "outputs": [
    {
     "name": "stdout",
     "output_type": "stream",
     "text": [
      "--- temperature=0.1 ---\n",
      "La inteligencia artificial (IA) es un campo de la informática que se centra en la creación de sistemas y programas capaces de realizar tareas que normalmente requieren inteligencia humana. Esto incluye habilidades como el aprendizaje, el razonamiento, la comprensión del lenguaje natural, la percepción visual y la toma de decisiones. La IA puede clasificarse en dos categorías principales: la IA débil, que está diseñada para realizar tareas específicas (como asistentes virtuales o sistemas de recomendación), y la IA fuerte, que busca replicar\n",
      "--- temperature=0.5 ---\n",
      "La inteligencia artificial (IA) es un campo de la informática que se centra en la creación de sistemas y programas capaces de realizar tareas que normalmente requieren inteligencia humana. Estas tareas incluyen el aprendizaje, el razonamiento, la comprensión del lenguaje natural, la percepción visual y la toma de decisiones. La IA se basa en algoritmos y modelos matemáticos que permiten a las máquinas procesar datos, reconocer patrones y adaptarse a nuevas situaciones. Se utiliza en diversas aplicaciones, desde asistentes virtuales y chatbots hasta\n",
      "--- temperature=0.9 ---\n",
      "La inteligencia artificial (IA) es un campo de la informática que se centra en crear sistemas y programas capaces de realizar tareas que, normalmente, requieren inteligencia humana. Estas tareas incluyen el aprendizaje, el razonamiento, la comprensión del lenguaje, la percepción visual y la toma de decisiones. La IA puede ser clasificada en dos categorías principales: la IA estrecha, que está diseñada para realizar tareas específicas (como asistentes virtuales o sistemas de recomendación), y la IA general, que busca replicar la\n"
     ]
    }
   ],
   "source": [
    "for t in [0.1, 0.5, 0.9]:\n",
    "    response = client.chat.completions.create(\n",
    "        model=\"gpt-4o-mini\",\n",
    "        messages=[{\"role\": \"user\", \"content\": \"Describe brevemente qué es la IA.\"}],\n",
    "        temperature=t,\n",
    "        max_tokens=100\n",
    "    )\n",
    "    print(f\"--- temperature={t} ---\")\n",
    "    print(response.choices[0].message.content)"
   ]
  }
 ],
 "metadata": {
  "kernelspec": {
   "display_name": ".venv",
   "language": "python",
   "name": "python3"
  },
  "language_info": {
   "codemirror_mode": {
    "name": "ipython",
    "version": 3
   },
   "file_extension": ".py",
   "mimetype": "text/x-python",
   "name": "python",
   "nbconvert_exporter": "python",
   "pygments_lexer": "ipython3",
   "version": "3.11.6"
  }
 },
 "nbformat": 4,
 "nbformat_minor": 2
}
